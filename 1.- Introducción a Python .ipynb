{
 "cells": [
  {
   "cell_type": "markdown",
   "metadata": {},
   "source": [
    "# Introducción a Python"
   ]
  },
  {
   "cell_type": "markdown",
   "metadata": {},
   "source": [
    "## Enlaces importantes"
   ]
  },
  {
   "cell_type": "markdown",
   "metadata": {},
   "source": [
    "* Web Aula Software Libre: https://www.uco.es/aulasoftwarelibre/\n",
    "* Web Aula Redes y seguridad: www.uco.es/aulaRedesSeguridad/\n",
    "* Grupo de Telegram: https://t.me/AulaSoftwareLibreUCO"
   ]
  },
  {
   "cell_type": "markdown",
   "metadata": {},
   "source": [
    "##  Características de Python"
   ]
  },
  {
   "cell_type": "markdown",
   "metadata": {},
   "source": [
    "* Orientado a objectos\n",
    "* Interpretado\n",
    "* Tipado débil \n",
    "* Multiparadigma\n",
    "* Lenguaje de alto nivel\n"
   ]
  },
  {
   "cell_type": "markdown",
   "metadata": {},
   "source": [
    "## Ejemplos de uso de Python"
   ]
  },
  {
   "cell_type": "markdown",
   "metadata": {},
   "source": [
    "![odoo-erp](https://linode.com/docs/websites/cms/install-odoo-9-erp-on-ubuntu-14-04/odoo_applications.png)"
   ]
  },
  {
   "cell_type": "markdown",
   "metadata": {},
   "source": [
    "![micro-python](https://proxy.duckduckgo.com/iu/?u=https%3A%2F%2Fwww.robotics.org.za%2Fimage%2Fcache%2Fcatalog%2Fadafruit%2FAF2390%2FAF2390%2520-%2520Main-500x500.jpg&f=1)"
   ]
  },
  {
   "cell_type": "markdown",
   "metadata": {},
   "source": [
    "![django](https://udemy-images.udemy.com/course/750x422/631128_2efb_4.jpg)"
   ]
  },
  {
   "cell_type": "markdown",
   "metadata": {},
   "source": [
    "## Instalación de Python"
   ]
  },
  {
   "cell_type": "markdown",
   "metadata": {},
   "source": [
    "```bash\n",
    "sudo apt install python3 python3-virtualenv\n",
    "```"
   ]
  }
 ],
 "metadata": {
  "kernelspec": {
   "display_name": "Python 3",
   "language": "python",
   "name": "python3"
  },
  "language_info": {
   "codemirror_mode": {
    "name": "ipython",
    "version": 3
   },
   "file_extension": ".py",
   "mimetype": "text/x-python",
   "name": "python",
   "nbconvert_exporter": "python",
   "pygments_lexer": "ipython3",
   "version": "3.6.6"
  }
 },
 "nbformat": 4,
 "nbformat_minor": 2
}
