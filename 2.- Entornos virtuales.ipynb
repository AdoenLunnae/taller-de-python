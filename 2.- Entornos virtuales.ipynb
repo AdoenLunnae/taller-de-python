{
 "cells": [
  {
   "cell_type": "markdown",
   "metadata": {},
   "source": [
    "# Entornos virtuales\n"
   ]
  },
  {
   "cell_type": "markdown",
   "metadata": {},
   "source": [
    "## Python Package Index (Pypi)"
   ]
  },
  {
   "cell_type": "markdown",
   "metadata": {},
   "source": [
    "Repositorio de paquetes de Python que nos permite manejar las depencias y distribuir los paquetes de forma sencilla."
   ]
  },
  {
   "cell_type": "markdown",
   "metadata": {},
   "source": [
    "Instalación de Pypi\n",
    "\n",
    "```bash\n",
    "sudo apt install python3-pip\n",
    "```\n",
    "Actualizar pip:\n",
    "\n",
    "```bash\n",
    "pip install -U pip\n",
    "```"
   ]
  },
  {
   "cell_type": "code",
   "execution_count": 3,
   "metadata": {},
   "outputs": [],
   "source": [
    "import subprocess"
   ]
  },
  {
   "cell_type": "code",
   "execution_count": 14,
   "metadata": {},
   "outputs": [
    {
     "name": "stdout",
     "output_type": "stream",
     "text": [
      "Versión de pip: pip 19.0.2 from /home/cyberh99/code/taller-de-python/venv/lib/python3.6/site-packages/pip (python 3.6)\n",
      "\n"
     ]
    }
   ],
   "source": [
    "print(  \"Versión de pip: \" + subprocess.check_output(\"pip --version\",shell=True).decode(\"utf-8\") ) "
   ]
  },
  {
   "cell_type": "code",
   "execution_count": 17,
   "metadata": {},
   "outputs": [
    {
     "data": {
      "text/plain": [
       "['opencv-utils (0.0.2)                       - OpenCV Utilities',\n",
       " 'ctypes-opencv (0.8.0)                      - ctypes-opencv - A Python wrapper for OpenCV using ctypes',\n",
       " 'opencv-cython (0.4)                        - An alternative OpenCV wrapper',\n",
       " 'opencv-python (4.0.0.21)                   - Wrapper package for OpenCV python bindings.',\n",
       " 'opencv-iav (0.0.3)                         - Take a picture or record a video using OpenCV.',\n",
       " 'opencv-python-armv7l (3.2.0)               - opencv-python on armv7l.',\n",
       " 'simple-opencv-ocr (0.0)                    - A simple OCR with OpenCV',\n",
       " 'thumbor-engine-opencv (1.0.0)              - OpenCV imaging engine for thumbor.',\n",
       " 'opencv-python-aarch64 (3.3.0.1)            - Wrapper package for OpenCV python bindings.',\n",
       " 'opencv-python-headless (4.0.0.21)          - Wrapper package for OpenCV python bindings.',\n",
       " 'opencv-contrib-python (4.0.0.21)           - Wrapper package for OpenCV python bindings.',\n",
       " 'opencv-contrib-python-headless (4.0.0.21)  - Wrapper package for OpenCV python bindings.',\n",
       " 'tvl-backends-opencv (0.1.0a5)              - ',\n",
       " 'pypylon-opencv-viewer (1.0.3)              - Impro function application while saving and getting image',\n",
       " 'opencv-rolling-ball (1.0.1)                - Now function returns both result image and subtracted background',\n",
       " 'mosaicode-lib-c-opencv (1.0.0.dev1)        - Computer Music Programming Tool',\n",
       " 'simretina (0.1.4)                          - Simulation of the Retina with OpenCV.',\n",
       " 'opencv_helpers (1.1)                       - Helper functions for opencv',\n",
       " 'ImageSource (1.0b2)                        - Image sequence abstraction for OpenCV.',\n",
       " 'cvtools (0.1.6)                            - OpenCV tools for CV applications',\n",
       " 'opencv_engine (1.0.1)                      - OpenCV imaging engine for thumbor.',\n",
       " 'vidstab (1.5.6)                            - Video Stabilization using OpenCV',\n",
       " 'fitch (0.1.0)                              - UI automation based on opencv',\n",
       " 'cv2-wrapper (0.1)                          - Wrapper for python opencv 2.4.12 32bit',\n",
       " 'vext.OpenCV (0.5.20)                       - Use system OpenCV from a virtualenv',\n",
       " 'cv2wrap (1.0)                              - Wrapper for python opencv 2.4.12 32bit',\n",
       " 'rapideye (0.1.4)                           - An Image Search Toolkit based on OpenCV.',\n",
       " 'FaceExtractor (0.1.5)                      - Extract faces from images with OpenCV',\n",
       " 'cmapy (0.2)                                - Use Matplotlib colormaps with OpenCV in Python.',\n",
       " 'CVtypes (0.1)                              - Python OpenCV wrapper using ctypes',\n",
       " 'vec2img (0.1.0)                            - convert OpenCV samples file to images',\n",
       " 'unwrap-labels (1.0.5)                      - Library to unwrap labels using OpenCV',\n",
       " \"cvimage (0.1.1)                            - Chainable wrapper for OpenCV's python bindings.\",\n",
       " \"cvx (0.1.3)                                - OpenCV 'extension' with routinely used methods\",\n",
       " 'ObjectExtractor (0.2.2)                    - Extract objects from images with OpenCV',\n",
       " 'facerecog (0.0.1)                          - PyQt OpenCV Face Recognition Widget',\n",
       " \"TiffCapture (0.1.6)                        - Brings the power of OpenCV to TIFF videos; provides interface to multi-part TIFFs compatible with OpenCV's VideoCapture.\",\n",
       " 'helper_functions (2.0.11)                  - A simple module of simple function, for opencv and python3',\n",
       " 'images2video (0.3)                         - Python images to video library using OpenCV',\n",
       " 'image-pyqt (0.0.2)                         - An Image Widget for display OpenCV Mat image',\n",
       " 'hampy (1.4.1)                              - Simple Hamming Marker Detection using OpenCV',\n",
       " 'EasyVision (0.0.3)                         - Easy Computer Vision Library using OpenCV.',\n",
       " 'camera-fusion (0.0.8)                      - Multiple cameras calibration and fusion with OpenCV Python.',\n",
       " 'atx (1.2.0)                                - Automation test library for android based on opencv',\n",
       " 'pyimagevideo (1.0.0)                       - Demos of OpenCV, read/write videos, etc.',\n",
       " 'remotecv (2.2.2)                           - remotecv is an OpenCV worker for facial and feature recognition',\n",
       " 'big-g (1.0.3)                              - OpenCV object tracking for Big G experiments',\n",
       " 'scvf (1.0.2)                               - a framework that wraps opencv for our needs in FRC',\n",
       " 'bayesian-sgm (1.0.0)                       - Um segmentador de cores bayesiano para a OpenCV.',\n",
       " 'nionswift-video-capture (0.1.0)            - Capture video from built-in camera using OpenCV.',\n",
       " 'Tippy (0.1)                                - another Toolbox for Image Processing in PYthon, based on OpenCV',\n",
       " 'opencvutils (0.9.4)                        - Simple OpenCV 3.x image processing functions',\n",
       " 'head-pose (0.0.4)                          - Use opencv solvePnP to do head pose estimation',\n",
       " \"opencv_cffi (0.2.2)                        - A random subset of OpenCV's functionality, wrapped via CFFI\",\n",
       " 'wxPyGameVideoPlayer (0.1.5.0)              - Just a simple video player using wxPython, PyGame, and OpenCV',\n",
       " 'image-mining (0.1.6)                       - Extract useful information from scanned images using OpenCV',\n",
       " 'pyvision3 (0.1.3)                          - Facilitates computer vision research and prototyping using python and openCV',\n",
       " 'facereg (0.2.0)                            - Face recognition from identity cards with OpenCV and Deep Learning.',\n",
       " 'athentoimaging (0.1)                       - Image cleaning and OCR improvement package in Python using OpenCV.',\n",
       " 'Willow (1.1)                               - A Python image library that sits on top of Pillow, Wand and OpenCV',\n",
       " 'pyopencv (2.1.0.wr1.2.0)                   - PyOpenCV - A Python wrapper for OpenCV 2.x using Boost.Python and NumPy',\n",
       " 'imagecrop (0.0.16)                         - Use OpenCV to extract image crops using homography and feature matching',\n",
       " 'imgui-datascience (0.2.9)                  - A set of utilities for data science using python, imgui, numpy and opencv',\n",
       " 'cvui (2.7)                                 - A (very) simple UI lib built on top of OpenCV drawing primitives',\n",
       " \"cvauto (0.0.5)                             - It's a gui automation pkg, and base on opencv, just a simple picture match.\",\n",
       " 'scikit-surgeryutils (0.3.5)                - scikit-surgeryutils - Tests/demos utilities, based around opencv-contrib and PySide2',\n",
       " 'cvloop (0.3.5)                             - cvloop allows online video transformation and evaluation with OpenCV. Designed for jupyter notebooks.',\n",
       " 'teacv (0.1.0)                              - teacv is a tool for extend Python OpenCV modules with custom filters written in C++.',\n",
       " 'py-agender (0.0.8)                         - Simple opencv & tensorflow based solution to estimate Faces, Age and Gender on pictures',\n",
       " 'scenedetect (0.5)                          - A cross-platform, OpenCV-based video scene detection program and Python library.',\n",
       " 'cvbuilder (0.2.29)                         - Package for building OpenCV 4.0.1 including Python 3 bindings from the official sources.',\n",
       " 'vse (0.1.5)                                - A visual search engine using local features descriptors and bag of words, based on OpenCV',\n",
       " 'partypi (0.1.4)                            - Party Pi is a computer vision emotion detection game with OpenCV and Microsoft Oxford Emotion API.',\n",
       " 'visionmadeeasy (2019.2.1)                  - A module intended to abstract away a lot of the complexity of using OpenCV to detect and recognise faces for beginner programmers.',\n",
       " 'centroid-tracker (0.0.9)                   - A small centroid tracker library based off https://www.pyimagesearch.com/2018/07/23/simple-object-tracking-with-opencv/',\n",
       " 'cv_utils (0.2.0)                           - Computer Vision or OpenCV python utility functions. It also includes basic utilities for image processing and computer vision related tasks.',\n",
       " 'morecvutils (0.9.2)                        - Computer Vision utilities, Cohen-Sutherland line clipping, OpenCV plot helpers for Optical Flow and Blob Analysis, AVI codec helpers',\n",
       " 'imutils (0.5.2)                            - A series of convenience functions to make basic image processing functions such as translation, rotation, resizing, skeletonization, displaying Matplotlib images, sorting contours, detecting edges, and much more easier with OpenCV and both Python 2.7 and Python 3.',\n",
       " \"PySimpleGUI (3.24.0)                       - GUI SDK Launched in 2018 Actively developed and supported. Super-simple to create custom GUI's.  Python 2.7 & 3 Support. 100 Demo programs & Cookbook for rapid start. Extensive documentation. Examples using Machine Learning(GUI, OpenCV Integration,  Chatterbot), Rainmeter Style Floating Desktop Widgets, Matplotlib + Pyplot integration, add GUI to command line scripts, PDF & Image Viewer. Great for beginners as well as advanced GUI programmers\",\n",
       " \"PySimpleGUI27 (1.24.0)                     - Python 2.7 version of PySimpleGUI - GUI SDK Launched in 2018 Actively developed and supported. Super-simple to create custom GUI's.  Python 2.7 & 3 Support. 100 Demo programs & Cookbook for rapid start. Extensive documentation. Examples using Machine Learning(GUI, OpenCV Integration,  Chatterbot), Rainmeter Style Floating Desktop Widgets, Matplotlib + Pyplot integration, add GUI to command line scripts, PDF & Image Viewer. Great for beginners as well as advanced GUI programmers\",\n",
       " '']"
      ]
     },
     "execution_count": 17,
     "metadata": {},
     "output_type": "execute_result"
    }
   ],
   "source": [
    "subprocess.check_output(\"pip search opencv\",shell=True).decode(\"utf-8\").split(\"\\n\")"
   ]
  },
  {
   "cell_type": "markdown",
   "metadata": {},
   "source": [
    "## El fichero requirements.txt \n",
    "\n",
    "Cuando estamos trabajando en un proyecto, generalmente manejamos múltiples dependencias von versiones muy específicas (debido a grandes cambios o vulnerabilidades en versiones anteriores), para que terceras personas puedan instalar dichos proyectos será necesario que concozan dichas dependencias, para ello existe el fichero requierements."
   ]
  },
  {
   "cell_type": "code",
   "execution_count": 7,
   "metadata": {},
   "outputs": [
    {
     "name": "stdout",
     "output_type": "stream",
     "text": [
      "backcall==0.1.0\n",
      "\n",
      "bleach==3.1.0\n",
      "\n",
      "decorator==4.3.2\n",
      "\n",
      "defusedxml==0.5.0\n",
      "\n",
      "entrypoints==0.3\n",
      "\n",
      "ipykernel==5.1.0\n",
      "\n",
      "ipython==7.2.0\n",
      "\n",
      "ipython-genutils==0.2.0\n",
      "\n",
      "ipywidgets==7.4.2\n",
      "\n",
      "jedi==0.13.2\n",
      "\n",
      "Jinja2==2.10\n",
      "\n",
      "jsonschema==2.6.0\n",
      "\n",
      "jupyter==1.0.0\n",
      "\n",
      "jupyter-client==5.2.4\n",
      "\n",
      "jupyter-console==6.0.0\n",
      "\n",
      "jupyter-core==4.4.0\n",
      "\n",
      "MarkupSafe==1.1.0\n",
      "\n",
      "mistune==0.8.4\n",
      "\n",
      "nbconvert==5.4.1\n",
      "\n",
      "nbformat==4.4.0\n",
      "\n",
      "notebook==5.7.4\n",
      "\n",
      "pandocfilters==1.4.2\n",
      "\n",
      "parso==0.3.4\n",
      "\n",
      "pexpect==4.6.0\n",
      "\n",
      "pickleshare==0.7.5\n",
      "\n",
      "pkg-resources==0.0.0\n",
      "\n",
      "prometheus-client==0.5.0\n",
      "\n",
      "prompt-toolkit==2.0.8\n",
      "\n",
      "ptyprocess==0.6.0\n",
      "\n",
      "Pygments==2.3.1\n",
      "\n",
      "python-dateutil==2.8.0\n",
      "\n",
      "pyzmq==17.1.2\n",
      "\n",
      "qtconsole==4.4.3\n",
      "\n",
      "Send2Trash==1.5.0\n",
      "\n",
      "six==1.12.0\n",
      "\n",
      "terminado==0.8.1\n",
      "\n",
      "testpath==0.4.2\n",
      "\n",
      "tornado==5.1.1\n",
      "\n",
      "traitlets==4.3.2\n",
      "\n",
      "wcwidth==0.1.7\n",
      "\n",
      "webencodings==0.5.1\n",
      "\n",
      "widgetsnbextension==3.4.2\n",
      "\n"
     ]
    },
    {
     "data": {
      "text/plain": [
       "[None,\n",
       " None,\n",
       " None,\n",
       " None,\n",
       " None,\n",
       " None,\n",
       " None,\n",
       " None,\n",
       " None,\n",
       " None,\n",
       " None,\n",
       " None,\n",
       " None,\n",
       " None,\n",
       " None,\n",
       " None,\n",
       " None,\n",
       " None,\n",
       " None,\n",
       " None,\n",
       " None,\n",
       " None,\n",
       " None,\n",
       " None,\n",
       " None,\n",
       " None,\n",
       " None,\n",
       " None,\n",
       " None,\n",
       " None,\n",
       " None,\n",
       " None,\n",
       " None,\n",
       " None,\n",
       " None,\n",
       " None,\n",
       " None,\n",
       " None,\n",
       " None,\n",
       " None,\n",
       " None,\n",
       " None]"
      ]
     },
     "execution_count": 7,
     "metadata": {},
     "output_type": "execute_result"
    }
   ],
   "source": [
    "subprocess.check_output(\"pip freeze > requirements.txt\",shell=True)\n",
    "with open(\"requirements.txt\",\"r\") as diskFile: data = diskFile.readlines()\n",
    "[print(dependence) for dependence in data]"
   ]
  },
  {
   "cell_type": "markdown",
   "metadata": {},
   "source": [
    "```bash\n",
    "pip install -r requirements.txt\n",
    "```"
   ]
  },
  {
   "cell_type": "markdown",
   "metadata": {},
   "source": [
    "## Entornos Virtuales\n",
    "\n",
    "Los entornos virtuales en Python, nos permiten realizar una gestión ordenada de las dependencias para los diferentes proyectos. De esta forma evitamos que librerias entren en conflicto o tener un completo desorden dentro de nuestro sistema. También, como se ha mencionado anteriormente es posible que necesitemos una versión concreta de una libreria para un proyecto y esa misma libreria con otra versión para otro. Todas estas problemáticas las solucionan el uso de entornos virtuales."
   ]
  },
  {
   "cell_type": "code",
   "execution_count": 12,
   "metadata": {},
   "outputs": [
    {
     "data": {
      "text/plain": [
       "'New python executable in /home/cyberh99/code/taller-de-python/venv_testing/bin/python2\\nNot overwriting existing python script /home/cyberh99/code/taller-de-python/venv_testing/bin/python (you must use /home/cyberh99/code/taller-de-python/venv_testing/bin/python2)\\nInstalling setuptools, pkg_resources, pip, wheel...done.\\nRunning virtualenv with interpreter /usr/bin/python2\\n'"
      ]
     },
     "execution_count": 12,
     "metadata": {},
     "output_type": "execute_result"
    }
   ],
   "source": [
    "subprocess.check_output(\"virtualenv venv_testing\",shell=True).decode(\"utf-8\")\n"
   ]
  },
  {
   "cell_type": "code",
   "execution_count": 13,
   "metadata": {},
   "outputs": [
    {
     "data": {
      "text/plain": [
       "\"Using real prefix '/usr'\\nPath not in prefix '/home/cyberh99/code/taller-de-python/venv/include/python3.6m' '/usr'\\nNew python executable in /home/cyberh99/code/taller-de-python/venv_3_testing/bin/python3\\nAlso creating executable in /home/cyberh99/code/taller-de-python/venv_3_testing/bin/python\\nInstalling setuptools, pkg_resources, pip, wheel...done.\\nRunning virtualenv with interpreter /home/cyberh99/code/taller-de-python/venv/bin/python3\\n\""
      ]
     },
     "execution_count": 13,
     "metadata": {},
     "output_type": "execute_result"
    }
   ],
   "source": [
    "subprocess.check_output(\"virtualenv -p python3 venv_3_testing\",shell=True).decode(\"utf-8\")"
   ]
  },
  {
   "cell_type": "markdown",
   "metadata": {},
   "source": [
    "Activación del entorno virtual:\n",
    "\n",
    "```bash\n",
    "source venv/bin/activate\n",
    "```"
   ]
  },
  {
   "cell_type": "code",
   "execution_count": 15,
   "metadata": {},
   "outputs": [
    {
     "data": {
      "text/plain": [
       "'/home/cyberh99/code/taller-de-python/venv/bin/python'"
      ]
     },
     "execution_count": 15,
     "metadata": {},
     "output_type": "execute_result"
    }
   ],
   "source": [
    "subprocess.check_output(\"which python\",shell=True).decode(\"utf-8\").strip(\"\\n\")"
   ]
  }
 ],
 "metadata": {
  "kernelspec": {
   "display_name": "Python 3",
   "language": "python",
   "name": "python3"
  },
  "language_info": {
   "codemirror_mode": {
    "name": "ipython",
    "version": 3
   },
   "file_extension": ".py",
   "mimetype": "text/x-python",
   "name": "python",
   "nbconvert_exporter": "python",
   "pygments_lexer": "ipython3",
   "version": "3.6.6"
  }
 },
 "nbformat": 4,
 "nbformat_minor": 2
}
