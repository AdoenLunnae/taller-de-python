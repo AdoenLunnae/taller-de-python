{
 "cells": [
  {
   "cell_type": "markdown",
   "metadata": {},
   "source": [
    "# Entornos virtuales\n"
   ]
  },
  {
   "cell_type": "markdown",
   "metadata": {},
   "source": [
    "## Python Package Index (Pypi)"
   ]
  },
  {
   "cell_type": "markdown",
   "metadata": {},
   "source": [
    "Repositorio de paquetes de Python que nos permite manejar las depencias y distribuir los paquetes de forma sencilla."
   ]
  },
  {
   "cell_type": "markdown",
   "metadata": {},
   "source": [
    "Instalación de Pypi\n",
    "\n",
    "```bash\n",
    "sudo apt install python3-pip\n",
    "```\n",
    "Actualizar pip:\n",
    "\n",
    "```bash\n",
    "pip install -U pip\n",
    "```"
   ]
  },
  {
   "cell_type": "code",
   "execution_count": null,
   "metadata": {},
   "outputs": [],
   "source": [
    "import subprocess"
   ]
  },
  {
   "cell_type": "code",
   "execution_count": null,
   "metadata": {},
   "outputs": [],
   "source": [
    "print(  \"Versión de pip: \" + subprocess.check_output(\"pip --version\",shell=True).decode(\"utf-8\") ) "
   ]
  },
  {
   "cell_type": "code",
   "execution_count": null,
   "metadata": {},
   "outputs": [],
   "source": [
    "subprocess.check_output(\"pip search opencv\",shell=True).decode(\"utf-8\").split(\"\\n\")"
   ]
  },
  {
   "cell_type": "markdown",
   "metadata": {},
   "source": [
    "## El fichero requirements.txt \n",
    "\n",
    "Cuando estamos trabajando en un proyecto, generalmente manejamos múltiples dependencias von versiones muy específicas (debido a grandes cambios o vulnerabilidades en versiones anteriores), para que terceras personas puedan instalar dichos proyectos será necesario que concozan dichas dependencias, para ello existe el fichero requierements."
   ]
  },
  {
   "cell_type": "code",
   "execution_count": null,
   "metadata": {},
   "outputs": [],
   "source": [
    "subprocess.check_output(\"pip freeze > requirements.txt\",shell=True)\n",
    "with open(\"requirements.txt\",\"r\") as diskFile: data = diskFile.readlines()\n",
    "[print(dependence) for dependence in data]"
   ]
  },
  {
   "cell_type": "markdown",
   "metadata": {},
   "source": [
    "```bash\n",
    "pip install -r requirements.txt\n",
    "```"
   ]
  },
  {
   "cell_type": "markdown",
   "metadata": {},
   "source": [
    "## Entornos Virtuales\n",
    "\n",
    "Los entornos virtuales en Python, nos permiten realizar una gestión ordenada de las dependencias para los diferentes proyectos. De esta forma evitamos que librerias entren en conflicto o tener un completo desorden dentro de nuestro sistema. También, como se ha mencionado anteriormente es posible que necesitemos una versión concreta de una libreria para un proyecto y esa misma libreria con otra versión para otro. Todas estas problemáticas las solucionan el uso de entornos virtuales."
   ]
  },
  {
   "cell_type": "code",
   "execution_count": null,
   "metadata": {},
   "outputs": [],
   "source": [
    "subprocess.check_output(\"virtualenv venv_testing\",shell=True).decode(\"utf-8\")\n"
   ]
  },
  {
   "cell_type": "code",
   "execution_count": null,
   "metadata": {},
   "outputs": [],
   "source": [
    "subprocess.check_output(\"virtualenv -p python3 venv_3_testing\",shell=True).decode(\"utf-8\")"
   ]
  },
  {
   "cell_type": "markdown",
   "metadata": {},
   "source": [
    "Activación del entorno virtual:\n",
    "\n",
    "```bash\n",
    "source venv/bin/activate\n",
    "```"
   ]
  },
  {
   "cell_type": "code",
   "execution_count": null,
   "metadata": {},
   "outputs": [],
   "source": [
    "subprocess.check_output(\"which python\",shell=True).decode(\"utf-8\").strip(\"\\n\")"
   ]
  }
 ],
 "metadata": {
  "kernelspec": {
   "display_name": "Python 3",
   "language": "python",
   "name": "python3"
  },
  "language_info": {
   "codemirror_mode": {
    "name": "ipython",
    "version": 3
   },
   "file_extension": ".py",
   "mimetype": "text/x-python",
   "name": "python",
   "nbconvert_exporter": "python",
   "pygments_lexer": "ipython3",
   "version": "3.6.7"
  }
 },
 "nbformat": 4,
 "nbformat_minor": 2
}
