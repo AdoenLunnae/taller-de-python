{
 "cells": [
  {
   "cell_type": "markdown",
   "metadata": {},
   "source": [
    "# Consumo de API's\n",
    "\n",
    "API (Application programming interface), conjunto de métodos definidos para la comunicación entre diferentes componentes de una aplicación.\n",
    "\n",
    "Ejemplo. Tenemos una aplicación que consta de:\n",
    "    \n",
    "    * Base de datos\n",
    "    * Interfaz web\n",
    "    * Aplicación de Android\n",
    "\n",
    "Para comunicar todas estas partes entre sí se require el uso de una API. Dependiendo de las acciones de la api será necesario obtener un token para identificarse.\n"
   ]
  },
  {
   "cell_type": "markdown",
   "metadata": {},
   "source": [
    "## Ejemplo de consumo de API"
   ]
  },
  {
   "cell_type": "markdown",
   "metadata": {},
   "source": [
    "1.- [Obtención de api](https://opendata.aemet.es/centrodedescargas/obtencionAPIKey)"
   ]
  },
  {
   "cell_type": "code",
   "execution_count": null,
   "metadata": {},
   "outputs": [],
   "source": [
    "import requests\n",
    "\n",
    "\n",
    "url = \"https://opendata.aemet.es/opendata/api/valores/climatologicos/inventarioestaciones/todasestaciones/\"\n",
    "\n",
    "parametros = {\n",
    "    'api_key':\" \"\n",
    "}\n",
    "\n",
    "headers = {\n",
    "        'cache-control': \"no-cache\"\n",
    "}\n",
    "\n",
    "response = requests.request(\"GET\", url, headers=headers, params=parametros)\n",
    "\n",
    "if response.status_code == 200:\n",
    "    print (response.text)\n",
    "else:\n",
    "    print(\"ERROR\")"
   ]
  },
  {
   "cell_type": "code",
   "execution_count": null,
   "metadata": {},
   "outputs": [],
   "source": [
    "data = requests.request(\"GET\",response.text[\"datos\"])"
   ]
  },
  {
   "cell_type": "code",
   "execution_count": null,
   "metadata": {},
   "outputs": [],
   "source": [
    "import json\n",
    "response_data = json.loads(response.text)\n",
    "data = requests.request(\"GET\",response_data[\"datos\"])\n",
    "print(data.text)"
   ]
  },
  {
   "cell_type": "markdown",
   "metadata": {},
   "source": [
    "Ejercicio 1: Dado el contenido anterior, obtener la longitud y latitud de cada estación."
   ]
  },
  {
   "cell_type": "code",
   "execution_count": null,
   "metadata": {},
   "outputs": [],
   "source": [
    "#Coding Time"
   ]
  },
  {
   "cell_type": "markdown",
   "metadata": {},
   "source": [
    "Ejercicio 2: Partiendo del resultado anterior. ¿Serías capaz de realizar una función para buscar los datos de una estación?"
   ]
  },
  {
   "cell_type": "code",
   "execution_count": null,
   "metadata": {},
   "outputs": [],
   "source": [
    "# If you coding, a cat smile "
   ]
  }
 ],
 "metadata": {
  "kernelspec": {
   "display_name": "Python 3",
   "language": "python",
   "name": "python3"
  },
  "language_info": {
   "codemirror_mode": {
    "name": "ipython",
    "version": 3
   },
   "file_extension": ".py",
   "mimetype": "text/x-python",
   "name": "python",
   "nbconvert_exporter": "python",
   "pygments_lexer": "ipython3",
   "version": "3.6.7"
  }
 },
 "nbformat": 4,
 "nbformat_minor": 2
}
