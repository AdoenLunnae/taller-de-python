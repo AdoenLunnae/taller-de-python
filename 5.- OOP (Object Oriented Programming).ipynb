{
 "cells": [
  {
   "cell_type": "markdown",
   "metadata": {},
   "source": [
    "# OOP - POO \n",
    "\n",
    "La programación orientada a objetos es un paradigma de programación construido alrededor del concepto de objeto.Este modelo separa la información en objetos y describe el conenido y el comportamiento mediante la declaración de métodos.\n",
    "\n",
    "Dicho de otra forma. La programación orientada a objetos es un paradigma en el cuál tenemos un objecto (el cual tiene unas caracterísitcas propias) y las acciones que puede realizar estan determinadas por unos métodos denomidos clases."
   ]
  },
  {
   "cell_type": "code",
   "execution_count": 24,
   "metadata": {},
   "outputs": [],
   "source": [
    "import requests"
   ]
  },
  {
   "cell_type": "code",
   "execution_count": 8,
   "metadata": {},
   "outputs": [
    {
     "name": "stdout",
     "output_type": "stream",
     "text": [
      "<__main__.requestHandler object at 0x7f2d4c11bb38>\n"
     ]
    }
   ],
   "source": [
    "\n",
    "class requestHandler:\n",
    "    def make_get_request(self,url):\n",
    "        response = requests.request(\"GET\",url)\n",
    "        if response.status_code == 200:\n",
    "            return response\n",
    "\n",
    "handler = requestHandler()\n",
    "#handler.make_get_request(\"http://www.google.es\")\n",
    "print(handler)"
   ]
  },
  {
   "cell_type": "code",
   "execution_count": 9,
   "metadata": {},
   "outputs": [
    {
     "name": "stdout",
     "output_type": "stream",
     "text": [
      "Handler_1\n"
     ]
    }
   ],
   "source": [
    "\n",
    "class requestHandler:\n",
    "    \n",
    "    def __str__(self):\n",
    "        return \"Handler_1\"\n",
    "    \n",
    "    def make_get_request(self,url):\n",
    "        response = requests.request(\"GET\",url)\n",
    "        if response.status_code == 200:\n",
    "            return response\n",
    "\n",
    "handler = requestHandler()\n",
    "#handler.make_get_request(\"http://www.google.es\")\n",
    "print(handler)"
   ]
  },
  {
   "cell_type": "code",
   "execution_count": 22,
   "metadata": {},
   "outputs": [
    {
     "name": "stdout",
     "output_type": "stream",
     "text": [
      "Handler for http://google.es\n",
      "Handler for http://uco.es\n"
     ]
    }
   ],
   "source": [
    "\n",
    "class requestHandler:\n",
    "    \n",
    "    def __init__(self,base_url):\n",
    "        self.url = base_url\n",
    "    \n",
    "    def __str__(self):\n",
    "        return \"Handler for {}\".format(self.url)\n",
    "    \n",
    "    def make_get_request(self):\n",
    "        response = requests.request(\"GET\",self.url)\n",
    "        if response.status_code == 200:\n",
    "            return response\n",
    "\n",
    "\n",
    "handler = requestHandler(\"http://google.es\")\n",
    "print(handler)\n",
    "handler2 = requestHandler(\"http://uco.es\")\n",
    "print(handler2)"
   ]
  },
  {
   "cell_type": "code",
   "execution_count": 56,
   "metadata": {},
   "outputs": [
    {
     "data": {
      "text/plain": [
       "200"
      ]
     },
     "execution_count": 56,
     "metadata": {},
     "output_type": "execute_result"
    }
   ],
   "source": [
    "from IPython.display import Image\n",
    "\n",
    "class requestHandler:\n",
    "    \n",
    "    def __init__(self,base_url):\n",
    "        self.url = base_url\n",
    "    \n",
    "    def __str__(self):\n",
    "        return \"Handler for {}\".format(self.url)\n",
    "    \n",
    "    def make_get_request(self):\n",
    "        response = requests.request(\"GET\",self.url)\n",
    "        if response.status_code == 200:\n",
    "            return response\n",
    "        return False\n",
    "    \n",
    "    \n",
    "class google_chrome_basic(requestHandler):\n",
    "    \n",
    "    def show_status_code(self):\n",
    "        return self.make_get_request().status_code\n",
    "\n",
    "        \n",
    "firefox = google_chrome_basic(\"http://www.google.es\")\n",
    "#print(firefox.url)\n",
    "firefox.show_status_code()\n",
    "\n"
   ]
  }
 ],
 "metadata": {
  "kernelspec": {
   "display_name": "Python 3",
   "language": "python",
   "name": "python3"
  },
  "language_info": {
   "codemirror_mode": {
    "name": "ipython",
    "version": 3
   },
   "file_extension": ".py",
   "mimetype": "text/x-python",
   "name": "python",
   "nbconvert_exporter": "python",
   "pygments_lexer": "ipython3",
   "version": "3.6.6"
  }
 },
 "nbformat": 4,
 "nbformat_minor": 2
}
