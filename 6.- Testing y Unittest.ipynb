{
 "cells": [
  {
   "cell_type": "markdown",
   "metadata": {},
   "source": [
    "# Testing en Python\n",
    "\n",
    "Unittest es un framework de pruebas que soporta la automatización de pruebas, agregar diferentes tipos de colecciones de tests e independencia  de los tests para el reporte.\n",
    "\n",
    "Tenemos que diferenciar algunos conceptos de este framework:\n",
    "\n",
    "* Test Fixture: Representa la preparación necesaria para realizar uno o más tests y asociar acciones de limpieza. Ej: Crear base de datos temporales.\n",
    "    \n",
    "* Test case: Es un caso individual para hacer testing. Comprueba una salida específica para unas entradas.\n",
    "    \n",
    "* Test suite: Es una colección de casos de test. Se utiliza para ejecutar tests conjuntamente.\n",
    "    \n",
    "* Test runner: Orquesta la ejecución de los test y da la salida al usuario."
   ]
  },
  {
   "cell_type": "markdown",
   "metadata": {},
   "source": [
    "[Testing Examples](https://github.com/cyberh99/taller-de-python)"
   ]
  },
  {
   "cell_type": "markdown",
   "metadata": {},
   "source": [
    "## Ejercicio\n",
    "\n",
    "Crear una clase dentro del fichero models.py que se llame Mueble y reciba dos parámetros: id, que por defecto será 0  y name que sera opcional."
   ]
  }
 ],
 "metadata": {
  "kernelspec": {
   "display_name": "Python 3",
   "language": "python",
   "name": "python3"
  },
  "language_info": {
   "codemirror_mode": {
    "name": "ipython",
    "version": 3
   },
   "file_extension": ".py",
   "mimetype": "text/x-python",
   "name": "python",
   "nbconvert_exporter": "python",
   "pygments_lexer": "ipython3",
   "version": "3.6.7"
  }
 },
 "nbformat": 4,
 "nbformat_minor": 2
}
