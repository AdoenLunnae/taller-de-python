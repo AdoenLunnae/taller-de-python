{
 "cells": [
  {
   "cell_type": "markdown",
   "metadata": {
    "collapsed": true,
    "pycharm": {
     "name": "#%% md\n"
    }
   },
   "source": [
    "# Scientific Python\n",
    "Se suele denominar como Scientific Python a aquellas bibliotecas\n",
    "relacionadas con las matemáticas, la computación y la ingeniería.\n",
    "\n",
    "Los paquetes que forman parte de Scientific Python son:\n",
    "- NumPy\n",
    "- Pandas\n",
    "- Matplotlib\n",
    "- Scipy"
   ]
  },
  {
   "cell_type": "code",
   "source": [
    "import matplotlib.pyplot as plt\n",
    "import numpy as np\n",
    "import pandas as pd\n",
    "import scipy as sp"
   ],
   "metadata": {
    "collapsed": false,
    "pycharm": {
     "name": "#%% \n"
    }
   },
   "execution_count": null,
   "outputs": []
  },
  {
   "cell_type": "markdown",
   "source": [
    "# Matplotlib\n",
    "Esta librería principalmente se encarga de la visualización de datos\n",
    "y es muy flexible haciendo cualquier tipo de gráfica.\n",
    "Para que las gráficas se muestren en este jupyter notebook, se usará\n",
    "la siguiente función:\n"
   ],
   "metadata": {
    "collapsed": false
   }
  },
  {
   "cell_type": "code",
   "execution_count": null,
   "outputs": [],
   "source": [
    "%matplotlib inline"
   ],
   "metadata": {
    "collapsed": false,
    "pycharm": {
     "name": "#%%\n"
    }
   }
  },
  {
   "cell_type": "markdown",
   "source": [
    "Vamos a probar matplotlib. Vamos a representar la función seno.\n",
    "Para ello, ejecuta la siguiente celda de código"
   ],
   "metadata": {
    "collapsed": false
   }
  },
  {
   "cell_type": "code",
   "execution_count": null,
   "outputs": [],
   "source": [
    "x = np.linspace(0, 10, 100)\n",
    "plt.plot(x, np.sin(x))"
   ],
   "metadata": {
    "collapsed": false,
    "pycharm": {
     "name": "#%%\n"
    }
   }
  },
  {
   "cell_type": "markdown",
   "source": [
    "Ejercicio propuesto. Representa la función cos.\n",
    "Pista: Solo hay que cambiar el segundo argumento de la función plot. \n",
    "El resto del código es igual"
   ],
   "metadata": {
    "collapsed": false
   }
  },
  {
   "cell_type": "code",
   "execution_count": null,
   "outputs": [],
   "source": [],
   "metadata": {
    "collapsed": false,
    "pycharm": {
     "name": "#%%\n"
    }
   }
  },
  {
   "cell_type": "markdown",
   "source": [
    "Matplotlib también es capaz de realizar representaciones 3D. Para\n",
    "que estas representaciones sean interactivas se utilizará la función\n",
    "especial %matplotlib notebook"
   ],
   "metadata": {
    "collapsed": false
   }
  },
  {
   "cell_type": "code",
   "execution_count": null,
   "outputs": [],
   "source": [
    "%matplotlib notebook\n",
    "from mpl_toolkits.mplot3d import Axes3D\n",
    "fig = plt.figure()\n",
    "ax = fig.add_subplot(projection='3d')\n",
    "theta = np.linspace(-4 * np.pi, 4 * np.pi, 100)\n",
    "z = np.linspace(-2, 2, 100)\n",
    "r = z**2 + 1\n",
    "x = r * np.sin(theta)\n",
    "y = r * np.cos(theta)\n",
    "ax.plot(x, y, z, label='parametric curve')\n",
    "ax.legend()"
   ],
   "metadata": {
    "collapsed": false,
    "pycharm": {
     "name": "#%%\n"
    }
   }
  },
  {
   "cell_type": "markdown",
   "source": [
    "# NumPy y Pandas\n",
    "\n",
    "Python ya tiene por defecto sus propios vectores y matrices pero\n",
    "son muy poco versátiles. Para ello, habitualmente se suelen utilizar\n",
    "NumPy y Pandas.\n",
    "NumPy permite, entre otras cosas, operaciones wise a todos los\n",
    "elementos de un vector además de poseer funciones que calculen\n",
    "directamente la media, la desviación típica, etc.\n",
    "Ejecuta la siguiente celda para ver como se crean vectores y matrices\n",
    "en NumPy"
   ],
   "metadata": {
    "collapsed": false
   }
  },
  {
   "cell_type": "code",
   "execution_count": null,
   "outputs": [],
   "source": [
    "a = np.array([1,2,3,4]) # Se crea un vector de 4 elementos\n",
    "# Para ver el tamaño del vector, acudimos al atributo shape\n",
    "\n",
    "print(a.shape[0]) # Debe de imprimir 4 elementos\n",
    "print(\"La media de a es \", a.mean()) # Calcula la media del vector\n",
    "print(\"La desviación típica de a es \", a.std()) # Calcula la desviación típica\n",
    "\n",
    "# Para acceder a los elementos, se hará con el operador []\n",
    "print(\"El elemento 0 es \", a[0])\n",
    "\n",
    "b = np.zeros(shape=(2,2)) \n",
    "# Crea una matriz con dos filas y dos columnas llena de ceros\n",
    "print(b)\n",
    "\n",
    "c = np.zeros(shape=(1,2)) \n",
    "# Crea un vector con dos elementos lleno de ceros\n",
    "print(c)\n",
    "\n",
    "d = np.full(shape=(2,2), fill_value=7)\n",
    "# Crea una matriz 2x2 llena de 7.\n",
    "print(d)\n",
    "\n",
    "e = np.eye(2)\n",
    "# Crea una matriz identidad de 2x2\n",
    "print(e)\n",
    "\n",
    "f = np.random.random((2,2))\n",
    "# Crea una matriz 2x2 llena de números aleatorios\n",
    "print(f)\n"
   ],
   "metadata": {
    "collapsed": false,
    "pycharm": {
     "name": "#%%\n"
    }
   }
  },
  {
   "cell_type": "markdown",
   "source": [
    "Una de las mejores cosas de NumPy es su indexación. Esta permite\n",
    "coger una fila o columna específica, rangos de filas o columnas, etc.\n",
    "\n",
    "\n",
    "\n",
    "La sintaxis de indexación en un ndarray es la siguiente:\n",
    "\n",
    "- array[i,j]: accede al valor de la fila i columna j.\n",
    "- array[i:j,k]: devuelve otro ndarray con la submatriz correspondiente a las filas desde la i hasta la j-1 y a la columna k.\n",
    "- array[i:j,k:l]: devuelve otro ndarray con la submatriz correspondiente a las filas desde la i hasta la j-1 y a las columnas desde la k hasta la l.\n",
    "- array[i:j,:]: devuelve otro ndarray con la submatriz correspondiente a las filas desde la i hasta la j-1 y todas las columnas.\n",
    "- array[:,i:j]: devuelve otro ndarray con la submatriz correspondiente a todas las filas y a las columnas desde la k hasta la l. De esta forma:\n",
    "\n",
    "Sabiendo esta información, guarda en una variable la primera columna\n",
    "de la matriz e imprímela. Además de eso, calcula la media y la\n",
    "desviación típica de los datos de la matriz."
   ],
   "metadata": {
    "collapsed": false
   }
  },
  {
   "cell_type": "code",
   "execution_count": null,
   "outputs": [],
   "source": [
    "matrix = np.array([[1, 2, 3], [4, 5, 6], [7, 8, 9]])"
   ],
   "metadata": {
    "collapsed": false,
    "pycharm": {
     "name": "#%%\n"
    }
   }
  },
  {
   "cell_type": "markdown",
   "source": [
    "\n",
    "Pandas también es capaz de representar vectores. Para acceder a las\n",
    "diferentes columnas, se accede por su nombre, como si fuese un diccionario. "
   ],
   "metadata": {
    "collapsed": false
   }
  },
  {
   "cell_type": "code",
   "execution_count": null,
   "outputs": [],
   "source": [
    "df = pd.DataFrame(np.random.rand(6,6), index=[0, 1, 2, 3, 4, 5], \n",
    "                  columns=['A', 'B', 'C', 'D', 'E', 'F'])\n",
    "\n",
    "print(df)\n",
    "print(df['A'])"
   ],
   "metadata": {
    "collapsed": false,
    "pycharm": {
     "name": "#%%\n"
    }
   }
  },
  {
   "cell_type": "markdown",
   "source": [
    "# Scipy\n",
    " Scipy es una librería que se utiliza en el ámbito matemático\n",
    " que ofrece bastantes módulos como integración de funciones\n",
    " numéricas, interpolación, álgebra lineal y estadística. Nos\n",
    " centraremos en álgebra lineal y estadísticas."
   ],
   "metadata": {
    "collapsed": false
   }
  },
  {
   "cell_type": "code",
   "execution_count": null,
   "outputs": [],
   "source": [
    "\n",
    "matrix = np.array([[1, 2, 3], [4, 5, 6], [7, 8, 9]])\n",
    "\n",
    "inverse = sp.linalg.inv(matrix) # Calcular la inversa de una matriz\n",
    "\n",
    "det = sp.linalg.det(matrix) # Calcular el determinante de una matriz\n",
    "\n",
    "\n"
   ],
   "metadata": {
    "collapsed": false,
    "pycharm": {
     "name": "#%%\n"
    }
   }
  },
  {
   "cell_type": "markdown",
   "source": [
    "Para ver más funciones de álgebra líneal en scipy[pulsa aquí](https://docs.scipy.org/doc/scipy/reference/linalg.html)"
   ],
   "metadata": {
    "collapsed": false
   }
  }
 ],
 "metadata": {
  "kernelspec": {
   "display_name": "Python 3",
   "language": "python",
   "name": "python3"
  },
  "language_info": {
   "codemirror_mode": {
    "name": "ipython",
    "version": 2
   },
   "file_extension": ".py",
   "mimetype": "text/x-python",
   "name": "python",
   "nbconvert_exporter": "python",
   "pygments_lexer": "ipython2",
   "version": "2.7.6"
  },
  "pycharm": {
   "stem_cell": {
    "cell_type": "raw",
    "source": [],
    "metadata": {
     "collapsed": false
    }
   }
  }
 },
 "nbformat": 4,
 "nbformat_minor": 0
}